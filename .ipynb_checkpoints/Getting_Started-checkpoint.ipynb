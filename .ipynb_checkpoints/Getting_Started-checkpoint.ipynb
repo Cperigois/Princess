{
 "cells": [
  {
   "cell_type": "code",
   "execution_count": 1,
   "id": "25569c9d",
   "metadata": {},
   "outputs": [
    {
     "name": "stderr",
     "output_type": "stream",
     "text": [
      "/home/carole/.local/lib/python3.10/site-packages/pycbc/types/array.py:36: UserWarning: Wswiglal-redir-stdio:\n",
      "\n",
      "SWIGLAL standard output/error redirection is enabled in IPython.\n",
      "This may lead to performance penalties. To disable locally, use:\n",
      "\n",
      "with lal.no_swig_redirect_standard_output_error():\n",
      "    ...\n",
      "\n",
      "To disable globally, use:\n",
      "\n",
      "lal.swig_redirect_standard_output_error(True)\n",
      "\n",
      "Note however that this will likely lead to error messages from\n",
      "LAL functions being either misdirected or lost when called from\n",
      "Jupyter notebooks.\n",
      "\n",
      "To suppress this warning, use:\n",
      "\n",
      "import warnings\n",
      "warnings.filterwarnings(\"ignore\", \"Wswiglal-redir-stdio\")\n",
      "import lal\n",
      "\n",
      "  import lal as _lal\n"
     ]
    }
   ],
   "source": [
    "#! pip install -q lalsuite\n",
    "#! pip install PyCBC\n",
    "#! pip install joblib\n",
    "\n",
    "import os\n",
    "import numpy as np\n",
    "#from Starter.Detection import Detector, Network\n",
    "from Stochastic import princess as SP\n",
    "from Starter.astromodel import AstroModel\n",
    "from Starter.detection import Detector, Network \n",
    "from Individual.individual_analysis import IndividualAnalysis as IA\n"
   ]
  },
  {
   "cell_type": "markdown",
   "id": "eb684d43",
   "metadata": {},
   "source": [
    "\n",
    "<div>\n",
    "<img src=\"./Wiki/Princess_logo.png\" width=\"300\"/>\n",
    "</div>\n",
    "\n",
    "# Princess: Guide for a first calculation\n",
    "\n",
    "\n",
    "This file goes step-by-step through the calculation of an astrophysical background starting from a CBC catalogue.\n",
    "For mode details about the code structure and basic calculations please visit the README.md file.\n",
    "Princess as two companioin paper which give more details on the physica behind these calculations.\n",
    "\n",
    "This toolkit aims to be user friendly and useful to the collaboration. If you have any comments, issues or requests please contact the administrator (_caroleperigois@outlook.com_).\n",
    "\n",
    "The calculation of the background goes through four main step, defining the four sections of this file.\n",
    "1. Prepare your model\n",
    "2. Prepare your detectors and Networks\n",
    "3. Calculate the background\n",
    "4. Analyse our background"
   ]
  },
  {
   "cell_type": "markdown",
   "id": "a6f5be71",
   "metadata": {},
   "source": [
    "## 1. Prepare your model: \n",
    "All population synthesis codes may have different outputs. In the next steps the code will re-build catalogues insuring that it contains all the required parameters for the next steps of calculation.\n",
    "Your astrophysical model will be set in a class Princess.Astromodel and takes in entry several parameter.\n",
    "* `name`: (_str_) is the name you want to use for your model\n",
    "* `original_path`: (_str_) path to your original astrophysical catalogue\n",
    "* `sep`: (_str_) separator used in your original catalogue (default is tab)\n",
    "* `index_column`: (_bool_) does your original file contain a columns with indexes (default is None)\n",
    "* `flags`: (_dict_) this option allow to differenciate different types of CBCs is a Model. If you add this option you need to set up a dictionnary of the different categories. For example in the checks the original catalogue contain a column called 'flag' wher can be found identifiers 1 for isolated BBH and 2 for cluster BBH. Therefore the dictionnary looks like Flags = {'1': 'Iso', '2':'Cluster'}. In the next steps the code will build two catalogues out from the initial model (default is None).\n",
    "* `spin_option`: (_str_) name of the option to use for spins.\n",
    "\n"
   ]
  },
  {
   "cell_type": "code",
   "execution_count": 2,
   "id": "1f933af4",
   "metadata": {},
   "outputs": [
    {
     "name": "stdout",
     "output_type": "stream",
     "text": [
      "0\n"
     ]
    }
   ],
   "source": [
    "path_cat_original = './Test.dat'\n",
    "astromodel = AstroModel(name= 'Princess_Test', original_path = path_cat_original, \n",
    "                         sep = \"\\t\", index_column = None, spin_option = 'Rand_dynamics')"
   ]
  },
  {
   "cell_type": "markdown",
   "id": "d8396764",
   "metadata": {},
   "source": [
    "If your original catalogue do not have header you can set one using the method makeHeader on your model. In the next liste are the labels allowed by the code, please note that for the masse you will need to have or the chirp mass and the mass ratio, or the two masses m1 and m2.\n",
    "* Mc : Chirp mass in the source frame [Msun]\n",
    "* q : mass ratio in the source frame\n",
    "* m1 : mass of the first component (m1>m2) in the source frame [Msun]\n",
    "* m2 : mass of the secondary component (m2<m1) in the source frame [Msun]\n",
    "* Xeff : effective spin\n",
    "* s1 : individual spin factor of the first component\n",
    "* s2 : individual spin factor of the second component\n",
    "* theta1 : angle between the first spin component and the angular momentum of the binary [rad]\n",
    "* theta2 : angle between the second spin component and the angular momentum of the binary [rad] \n",
    "* a0 : semi-major axis at the formaiton of the second compact object [Rsun]\n",
    "* e0 : eccentricity at the formation of the second compact object  \n",
    "* inc : inclinaison angle [rad]       \n",
    "* zm : redshift of merger\n",
    "* zf : redshift of formation  \n",
    "* Dl : luminosity distance [Mpc]\n",
    "* flag : this columns cam contain a flag to differenciate sources"
   ]
  },
  {
   "cell_type": "markdown",
   "id": "14cb00ba",
   "metadata": {},
   "source": [
    "Set spin option:\n",
    "    True if you want to include spin in your calculations of the waveforms and background and you have the spin in your catalogue\n",
    "    'Zero' if you don't want to use the spin, the code set all spins to 0.\n",
    "    Model if you want Princess to generate spin values - Option available later -"
   ]
  },
  {
   "cell_type": "markdown",
   "id": "45119355",
   "metadata": {},
   "source": [
    "Finally the MakeCat method generate the catalogue with all requiered parameters"
   ]
  },
  {
   "cell_type": "code",
   "execution_count": 3,
   "id": "15d11f86",
   "metadata": {},
   "outputs": [
    {
     "name": "stdout",
     "output_type": "stream",
     "text": [
      "Astromodel loaded and ready :)\n"
     ]
    }
   ],
   "source": [
    "#astromodel.make_catalog()\n",
    "\n",
    "print('Astromodel loaded and ready :)')"
   ]
  },
  {
   "cell_type": "markdown",
   "id": "7fb68a93",
   "metadata": {},
   "source": [
    "## 2. Detectors and Networks\n",
    "In this part is detailed the context of the study starting by defining the range of frequency `Freq` and the waveforms `WF_approx` to use. In this version the range has to be linear in the future specific function will be added to allow log scale, in particular for LISA band. The available waveforms are the ones define in PyCBC and the analytic one from Ajith2011. The calculation with Ajith waveforms is computationnaly more expensive and therefore not recommended.   "
   ]
  },
  {
   "cell_type": "code",
   "execution_count": 4,
   "id": "fd8baf4a",
   "metadata": {},
   "outputs": [],
   "source": [
    "Freq_2G = np.linspace(1, 1000, 991)\n",
    "Freq_3G = np.linspace(1, 1000, 1000)\n",
    "WF_approx = \"IMRPhenomD\""
   ]
  },
  {
   "cell_type": "markdown",
   "id": "f970481a",
   "metadata": {},
   "source": [
    "In Princess two classes has been build for this purpose in the file _Starter/Detection_ in order to define Detectors and combine them to build a Network. The Detector class takes in entry several parameters:\n",
    "* `name`: (_str_) is the name you give to the detector\n",
    "* `Pycbc`: (_bool_) True if the sensitivity is available in PyCBC, else False\n",
    "* `psd_file`: (_str_) name of the sensitivity in PyCBC, or file where your sensitivity is stored\n",
    "* `freq`: (_np.array_) frequency range of the study"
   ]
  },
  {
   "cell_type": "code",
   "execution_count": 5,
   "id": "2c215ca9",
   "metadata": {},
   "outputs": [],
   "source": [
    "H = Detector(name = 'H', origin = 'Pycbc', configuration = 'H', psd_file = 'aLIGODesignSensitivityP1200087', freq = Freq_2G)\n",
    "L = Detector(name = 'L', origin = 'Pycbc', configuration = 'L', psd_file = 'aLIGODesignSensitivityP1200087', freq = Freq_2G)\n",
    "V = Detector(name = 'V', origin = 'Pycbc', configuration = 'V', psd_file = 'AdVDesignSensitivityP1200087', freq = Freq_2G)"
   ]
  },
  {
   "cell_type": "code",
   "execution_count": 6,
   "id": "6c809623",
   "metadata": {},
   "outputs": [],
   "source": [
    "ET = Detector(name = 'ET', configuration = 'ET', origin = 'Pycbc', psd_file = 'EinsteinTelescopeP1600143', freq = Freq_3G)\n",
    "CE1 = Detector(name = 'CE1', origin = 'Princess', configuration = 'H', psd_file = 'CE_40km', freq = Freq_3G)\n",
    "CE2 = Detector(name = 'CE2', origin = 'Princess', configuration = 'L', psd_file = 'CE_40km', freq = Freq_3G)"
   ]
  },
  {
   "cell_type": "markdown",
   "id": "a23462e7",
   "metadata": {},
   "source": [
    "The second class Network allow to combine different detectors to build a Network.A Network takes in entry: \n",
    "* `net_name`: (_str_) Name of the network\n",
    "* `compo`: (_list of detectors_) List of the detectors in the network.\n",
    "* `pic_file`: (_str_) link to the file of the power integrated curve.\n",
    "* `efficiency`: (_float_) between 0 and 1 define the effective time of observation of the Network. For example during O3a, in the Hanford-Livinstone-Virgo network only 50% of the data can be used with the three pipelines. The rest of the time at least on detector pipeline was unusuable.\n",
    "* `SNR_thrs`: (_int_ or _float_) Define the SNR threshold for which we assume a source is detectable\n",
    "* `SNR_sub`: (_int_ or _float_) Define the SNR threshold to substract the sources. For example its commonly assumed that in HLV all source with an SNR above 8 are resolved. However for a reason of parameter uncertainty the calculation of the residual background is done by subtracting only source with a SNR above 12. \n",
    "\n",
    "\n",
    "**If only one detector is used in the study it still has to be set as a detector.**\n",
    "\n",
    "The variable `Networks` gather all the networks used in the study.\n"
   ]
  },
  {
   "cell_type": "code",
   "execution_count": 7,
   "id": "f6505545",
   "metadata": {},
   "outputs": [],
   "source": [
    "HLV_Des = Network(name = 'HLV',compo=[H,L,V], pic_file = 'AuxiliaryFiles/PICs/Design_HLV_flow_10.txt' , efficiency = 0.5,SNR_thrs = 12 )\n",
    "Networks_2G = [HLV_Des]"
   ]
  },
  {
   "cell_type": "code",
   "execution_count": 8,
   "id": "5b9e29f8",
   "metadata": {},
   "outputs": [],
   "source": [
    "ETn = Network(name='ET', compo=[ET], pic_file='AuxiliaryFiles/PICs/ET2CE.txt',SNR_thrs=12)\n",
    "twoCE = Network(name='2CE', compo=[CE1,CE2], pic_file='AuxiliaryFiles/PICs/ET2CE.txt',SNR_thrs=12)\n",
    "ET2CE = Network(name='ET2CE', compo=[ET,CE1,CE2], pic_file='AuxiliaryFiles/PICs/ET2CE.txt',SNR_thrs=12)\n",
    "Networks_3G = [ETn, twoCE, ET2CE]"
   ]
  },
  {
   "cell_type": "markdown",
   "id": "46425125",
   "metadata": {},
   "source": [
    "Finally the method `compute_SNR`, compute the SNR of each sources of the model, and update the catalogue(s) with a new parameter column named by `net_name` containing the SNR in the corresponding network."
   ]
  },
  {
   "cell_type": "code",
   "execution_count": 9,
   "id": "a15dc4f3",
   "metadata": {},
   "outputs": [],
   "source": [
    "#astromodel.compute_SNR_opt(Networks = Networks_2G, freq = Freq_2G, approx = WF_approx)"
   ]
  },
  {
   "cell_type": "markdown",
   "id": "f3ebe6ac",
   "metadata": {},
   "source": [
    "## 5. Individual analysis \n",
    "This package of the code aims to predict individual observation from LIGO-Virgo from a predefined astrophysical model. As for the background computation the user has to predefine his analysis with the _class_ 'IndividualAnalysis'. This class takes in entry the limits of the study and the assumption on GW events observations.\n",
    "\n",
    "* `name`: (_str_) Name used to label the output.\n",
    "* `params` : (_dict_) parameters the user want to compare and the range [minimum, maximum, bins]. Default are : {'m1': [0, 100, 100], 'q': [0, 1, 20], 'zm': [0, 5, 30]}\n",
    "* `iteration` : (_int_) number of iteration to extract the errors on observations\n",
    "* `Network` : (Network from _class_ 'Network') network to use in the study\n",
    "* `binary_type` : (_list_ of _str_) type of binaries to be compared. Default is ['BBH', 'BNS', 'NSBH'].\n",
    "* `pastro_thrs` : (_float_) threshold to select sources from the data for the comparison. Default is 0.\n",
    "* `SNR_thrs` : (_float_) threshold to select sources from the data for the comparison. Default is 0.\n",
    "* `FAR_thrs` : (_float_) threshold to select sources from the data for the comparison. Default is 2.\n",
    "* `iteration` : (_int_) The number of iteration used to set up the position in the sky, this is used to extract an error on the number of detections.\n",
    "\n",
    "The method `Full_Analysis` is used to start the computation of the analysis."
   ]
  },
  {
   "cell_type": "code",
   "execution_count": 10,
   "id": "2dae65e3",
   "metadata": {},
   "outputs": [
    {
     "name": "stdout",
     "output_type": "stream",
     "text": [
      "                GPS  mass_1_source  mass_1_source_lower  mass_1_source_upper  \\\n",
      "count  6.600000e+01      66.000000            66.000000            66.000000   \n",
      "mean   1.239602e+09      33.918182            -6.300000             9.777273   \n",
      "std    3.347483e+07      18.141732             4.164206             6.652514   \n",
      "min    1.126259e+09       8.800000           -21.700000             1.400000   \n",
      "25%    1.241744e+09      20.050000            -8.000000             5.650000   \n",
      "50%    1.248287e+09      35.050000            -5.550000             8.500000   \n",
      "75%    1.259404e+09      41.825000            -3.125000            10.875000   \n",
      "max    1.268431e+09      98.400000            -1.400000            42.100000   \n",
      "\n",
      "       mass_2_source  mass_2_source_lower  mass_2_source_upper  \\\n",
      "count      66.000000            66.000000            66.000000   \n",
      "mean       22.551515            -6.615152             6.093939   \n",
      "std        12.220037             5.054389             4.849136   \n",
      "min         2.600000           -30.100000             0.100000   \n",
      "25%         9.350000            -9.200000             2.425000   \n",
      "50%        24.350000            -5.500000             4.900000   \n",
      "75%        30.550000            -2.525000             8.025000   \n",
      "max        57.200000            -0.100000            27.100000   \n",
      "\n",
      "       network_matched_filter_snr  network_matched_filter_snr_lower  \\\n",
      "count                   66.000000                         62.000000   \n",
      "mean                    13.425758                         -0.404839   \n",
      "std                      4.348309                          0.151957   \n",
      "min                      7.900000                         -0.800000   \n",
      "25%                     10.625000                         -0.500000   \n",
      "50%                     12.350000                         -0.400000   \n",
      "75%                     14.575000                         -0.300000   \n",
      "max                     26.800000                         -0.200000   \n",
      "\n",
      "       network_matched_filter_snr_upper  ...  redshift_upper           far  \\\n",
      "count                         62.000000  ...       66.000000  6.600000e+01   \n",
      "mean                           0.267742  ...        0.138182  5.619215e-02   \n",
      "std                            0.098803  ...        0.102115  1.646460e-01   \n",
      "min                            0.100000  ...        0.010000  1.000000e-07   \n",
      "25%                            0.200000  ...        0.060000  1.000000e-05   \n",
      "50%                            0.250000  ...        0.100000  1.000000e-05   \n",
      "75%                            0.300000  ...        0.217500  6.825000e-03   \n",
      "max                            0.500000  ...        0.430000  8.200000e-01   \n",
      "\n",
      "       far_lower  far_upper    p_astro  p_astro_lower  p_astro_upper  \\\n",
      "count        0.0        0.0  66.000000            0.0            0.0   \n",
      "mean         NaN        NaN   0.987233            NaN            NaN   \n",
      "std          NaN        NaN   0.024451            NaN            NaN   \n",
      "min          NaN        NaN   0.870420            NaN            NaN   \n",
      "25%          NaN        NaN   0.990000            NaN            NaN   \n",
      "50%          NaN        NaN   0.997885            NaN            NaN   \n",
      "75%          NaN        NaN   1.000000            NaN            NaN   \n",
      "max          NaN        NaN   1.000000            NaN            NaN   \n",
      "\n",
      "       final_mass_source  final_mass_source_lower  final_mass_source_upper  \n",
      "count          66.000000                66.000000                66.000000  \n",
      "mean           53.865758                -5.943182                 9.131212  \n",
      "std            28.221699                 4.354023                 7.631256  \n",
      "min            13.300000               -16.000000                 1.300000  \n",
      "25%            30.600000                -8.900000                 3.925000  \n",
      "50%            55.900000                -4.400000                 6.600000  \n",
      "75%            70.025000                -2.175000                11.575000  \n",
      "max           147.400000                -0.660000                40.000000  \n",
      "\n",
      "[8 rows x 37 columns]\n",
      "66\n",
      "O1 3\n",
      "O2 7\n",
      "O3a 35\n",
      "O3b 21\n",
      "[<Starter.detection.Network object at 0x7f5053dd11b0>]\n",
      "HLV\n"
     ]
    }
   ],
   "source": [
    "analysis = IA(name = 'PRINCESS_check', params =  {'m1': [0, 100, 100], 'm2': [0, 100, 100], 'Mc': [0, 70, 100]},\n",
    "                             Networks = Networks_2G, binary_type = ['BBH'], iteration = 1)\n",
    "analysis.Full_Analysis(Model = astromodel, update_file = False)"
   ]
  },
  {
   "cell_type": "markdown",
   "id": "9e44e590",
   "metadata": {},
   "source": [
    "## 4. Calculate the corresponding background:\n",
    "\n",
    "Prepare the calculation of the background with the class `Princess` :\n",
    "* `freq`: (_np.array_) frequency range, preferentially the one used since the beginning. In linear scale before the LISA update\n",
    "* `approx`: (_str_) waveform approximation\n",
    "* `freq_ref`: (_list of float_) list of frequency of interest for the study, is usually 10Hz for 3G detectors and 25Hz for 2G.\n",
    "\n",
    "Then the calculation is done by using the method `Omega_pycbc`"
   ]
  },
  {
   "cell_type": "code",
   "execution_count": 11,
   "id": "808d74bb",
   "metadata": {},
   "outputs": [
    {
     "name": "stdout",
     "output_type": "stream",
     "text": [
      "{'Princess_Test.dat':              Total  HLV\n",
      "N_source       NaN  NaN\n",
      "Omg_10.0_Hz    NaN  NaN\n",
      "Omg_25.0_Hz    NaN  NaN\n",
      "SNR_Total      NaN  NaN\n",
      "SNR_Residual   NaN  NaN}\n",
      " ***   GW COMPUTATION   ***         0/400\n"
     ]
    },
    {
     "name": "stderr",
     "output_type": "stream",
     "text": [
      "/home/carole/PycharmProjects/Princess/Stochastic/princess.py:161: SettingWithCopyWarning: \n",
      "A value is trying to be set on a copy of a slice from a DataFrame.\n",
      "Try using .loc[row_indexer,col_indexer] = value instead\n",
      "\n",
      "See the caveats in the documentation: https://pandas.pydata.org/pandas-docs/stable/user_guide/indexing.html#returning-a-view-versus-a-copy\n",
      "  event['inc'] = np.arccos(r.inc.values)\n"
     ]
    },
    {
     "name": "stdout",
     "output_type": "stream",
     "text": [
      "           ■ ■■ ■             2%    8/400\n",
      "          ■■■■■■■■            4%    16/400\n",
      "          ■ ■  ■ ■            6%    24/400\n",
      "         ■        ■           8%    32/400\n",
      "         ■        ■           10%   40/400\n",
      "          ■■■■ ■■■            12%   48/400\n",
      "         ■    ■  ■■           14%   56/400\n",
      "        ■          ■          16%   64/400\n",
      "      ■■            ■         18%   72/400\n",
      " ■   ■              ■■        20%   80/400\n",
      "  ■■■                 ■       22%   88/400\n",
      " ■                    ■       24%   96/400\n",
      "  ■                  ■        26%   104/400\n",
      " ■         ■■     ■■  ■       28%   112/400\n",
      "  ■       ■  ■   ■ ■  ■       30%   120/400\n",
      "   ■      ■   ■■■ ■■ ■        32%   128/400\n",
      "    ■■ ■■ ■  ■   ■ ■■         34%   136/400\n",
      "    ■ ■ ■ ■  ■   ■ ■■         36%   144/400\n",
      "   ■  ■ ■  ■ ■   ■ ■■■        38%   152/400\n",
      "■■■■   ■ ■ ■       ■ ■        40%   160/400\n",
      " ■    ■   ■   ■■  ■ ■         42%   168/400\n",
      " ■     ■ ■ ■     ■■           44%   176/400\n",
      "  ■■  ■■■■■ ■■■■■  ■          46%   184/400\n",
      " ■   ■     ■     ■  ■■        48%   192/400\n",
      "  ■ ■       ■     ■  ■        50%   200/400\n",
      "  ■ ■       ■     ■  ■        52%   208/400\n",
      "  ■ ■      ■      ■  ■        54%   216/400\n",
      "  ■  ■    ■■      ■ ■         56%   224/400\n",
      "   ■  ■■■■  ■    ■  ■         58%   232/400\n",
      "   ■■    ■   ■   ■  ■         60%   240/400\n",
      "■■■■    ■■    ■  ■ ■          62%   248/400\n",
      " ■     ■  ■    ■■  ■          64%   256/400\n",
      "  ■   ■    ■     ■ ■          66%   264/400\n",
      "   ■ ■      ■     ■ ■         68%   272/400\n",
      "    ■        ■     ■ ■        70%   280/400\n",
      "              ■   ■  ■        72%   288/400\n",
      "   ■  ■        ■■■    ■       74%   296/400\n",
      "  ■  ■    ■       ■   ■       76%   304/400\n",
      " ■   ■   ■         ■   ■      78%   312/400\n",
      " ■   ■   ■         ■   ■      80%   320/400\n",
      " ■  ■   ■           ■  ■      82%   328/400\n",
      "■   ■   ■           ■  ■      84%   336/400\n",
      "■   ■   ■           ■   ■     86%   344/400\n",
      "■   ■   ■           ■   ■     88%   352/400\n",
      " ■  ■   ■           ■   ■     90%   360/400\n",
      "  ■■■   ■           ■ ■■      92%   368/400\n",
      "     ■■■■■■        ■■■        94%   376/400\n",
      "           ■■■■■■■■           96%   384/400\n",
      "                              98%   392/400\n",
      "Written :  Results/Omega_e0/ Princess_Test.dat\n"
     ]
    }
   ],
   "source": [
    "Zelda = SP.Princess(Freq_2G, astromodel = astromodel, approx = WF_approx, Omega_ana_freq = [10.,25.], Networks = Networks_2G, inclination = \"Rand\")\n",
    "Zelda.Make_Ana_Output()\n",
    "Zelda.Omega_pycbc(Networks= Networks_2G)"
   ]
  },
  {
   "cell_type": "markdown",
   "id": "43185834",
   "metadata": {},
   "source": [
    "## 4. Analyse the background\n",
    "This part of the code aims to extract reference values for the predicted background. Usual values are the amplitude at 10 and 25 Hz, the SNR, the number of resolved soures, the ratio of detected sources, and the ratio between residuals and total backgrouns at a reference value."
   ]
  },
  {
   "cell_type": "code",
   "execution_count": 12,
   "id": "3e145271",
   "metadata": {},
   "outputs": [
    {
     "ename": "NameError",
     "evalue": "name 'Detection' is not defined",
     "output_type": "error",
     "traceback": [
      "\u001b[0;31m---------------------------------------------------------------------------\u001b[0m",
      "\u001b[0;31mNameError\u001b[0m                                 Traceback (most recent call last)",
      "\u001b[0;32m/tmp/ipykernel_306855/2359539504.py\u001b[0m in \u001b[0;36m<module>\u001b[0;34m\u001b[0m\n\u001b[0;32m----> 1\u001b[0;31m \u001b[0mE1\u001b[0m \u001b[0;34m=\u001b[0m \u001b[0mDetection\u001b[0m\u001b[0;34m.\u001b[0m\u001b[0mDetector\u001b[0m\u001b[0;34m(\u001b[0m\u001b[0mname\u001b[0m \u001b[0;34m=\u001b[0m \u001b[0;34m'E1'\u001b[0m\u001b[0;34m,\u001b[0m \u001b[0mconfiguration\u001b[0m \u001b[0;34m=\u001b[0m \u001b[0;34m'E1'\u001b[0m\u001b[0;34m,\u001b[0m \u001b[0morigin\u001b[0m \u001b[0;34m=\u001b[0m \u001b[0;34m'Pycbc'\u001b[0m\u001b[0;34m,\u001b[0m \u001b[0mpsd_file\u001b[0m \u001b[0;34m=\u001b[0m \u001b[0;34m'EinsteinTelescopeP1600143'\u001b[0m\u001b[0;34m,\u001b[0m \u001b[0mfreq\u001b[0m \u001b[0;34m=\u001b[0m \u001b[0mFreq_3G\u001b[0m\u001b[0;34m)\u001b[0m\u001b[0;34m\u001b[0m\u001b[0;34m\u001b[0m\u001b[0m\n\u001b[0m\u001b[1;32m      2\u001b[0m \u001b[0mE2\u001b[0m \u001b[0;34m=\u001b[0m \u001b[0mDetection\u001b[0m\u001b[0;34m.\u001b[0m\u001b[0mDetector\u001b[0m\u001b[0;34m(\u001b[0m\u001b[0mname\u001b[0m \u001b[0;34m=\u001b[0m \u001b[0;34m'E2'\u001b[0m\u001b[0;34m,\u001b[0m \u001b[0mconfiguration\u001b[0m \u001b[0;34m=\u001b[0m \u001b[0;34m'E2'\u001b[0m\u001b[0;34m,\u001b[0m \u001b[0morigin\u001b[0m \u001b[0;34m=\u001b[0m \u001b[0;34m'Pycbc'\u001b[0m\u001b[0;34m,\u001b[0m \u001b[0mpsd_file\u001b[0m \u001b[0;34m=\u001b[0m \u001b[0;34m'EinsteinTelescopeP1600143'\u001b[0m\u001b[0;34m,\u001b[0m \u001b[0mfreq\u001b[0m \u001b[0;34m=\u001b[0m \u001b[0mFreq_3G\u001b[0m\u001b[0;34m)\u001b[0m\u001b[0;34m\u001b[0m\u001b[0;34m\u001b[0m\u001b[0m\n\u001b[1;32m      3\u001b[0m \u001b[0mE3\u001b[0m \u001b[0;34m=\u001b[0m \u001b[0mDetection\u001b[0m\u001b[0;34m.\u001b[0m\u001b[0mDetector\u001b[0m\u001b[0;34m(\u001b[0m\u001b[0mname\u001b[0m \u001b[0;34m=\u001b[0m \u001b[0;34m'E3'\u001b[0m\u001b[0;34m,\u001b[0m \u001b[0mconfiguration\u001b[0m \u001b[0;34m=\u001b[0m \u001b[0;34m'E3'\u001b[0m\u001b[0;34m,\u001b[0m \u001b[0morigin\u001b[0m \u001b[0;34m=\u001b[0m \u001b[0;34m'Pycbc'\u001b[0m\u001b[0;34m,\u001b[0m \u001b[0mpsd_file\u001b[0m \u001b[0;34m=\u001b[0m \u001b[0;34m'EinsteinTelescopeP1600143'\u001b[0m\u001b[0;34m,\u001b[0m \u001b[0mfreq\u001b[0m \u001b[0;34m=\u001b[0m \u001b[0mFreq_3G\u001b[0m\u001b[0;34m)\u001b[0m\u001b[0;34m\u001b[0m\u001b[0;34m\u001b[0m\u001b[0m\n\u001b[1;32m      4\u001b[0m \u001b[0;34m\u001b[0m\u001b[0m\n\u001b[1;32m      5\u001b[0m \u001b[0mCE1\u001b[0m \u001b[0;34m=\u001b[0m \u001b[0mDetection\u001b[0m\u001b[0;34m.\u001b[0m\u001b[0mDetector\u001b[0m\u001b[0;34m(\u001b[0m\u001b[0mname\u001b[0m \u001b[0;34m=\u001b[0m \u001b[0;34m'CE1'\u001b[0m\u001b[0;34m,\u001b[0m \u001b[0morigin\u001b[0m \u001b[0;34m=\u001b[0m \u001b[0;34m'Princess'\u001b[0m\u001b[0;34m,\u001b[0m \u001b[0mconfiguration\u001b[0m \u001b[0;34m=\u001b[0m \u001b[0;34m'CE1'\u001b[0m\u001b[0;34m,\u001b[0m \u001b[0mpsd_file\u001b[0m \u001b[0;34m=\u001b[0m \u001b[0;34m'CE_20km'\u001b[0m\u001b[0;34m,\u001b[0m \u001b[0mfreq\u001b[0m \u001b[0;34m=\u001b[0m \u001b[0mFreq_3G\u001b[0m\u001b[0;34m)\u001b[0m\u001b[0;34m\u001b[0m\u001b[0;34m\u001b[0m\u001b[0m\n",
      "\u001b[0;31mNameError\u001b[0m: name 'Detection' is not defined"
     ]
    }
   ],
   "source": [
    "E1 = Detector(name = 'E1', configuration = 'E1', origin = 'Pycbc', psd_file = 'EinsteinTelescopeP1600143', freq = Freq_3G)\n",
    "E2 = Detector(name = 'E2', configuration = 'E2', origin = 'Pycbc', psd_file = 'EinsteinTelescopeP1600143', freq = Freq_3G)\n",
    "E3 = Detector(name = 'E3', configuration = 'E3', origin = 'Pycbc', psd_file = 'EinsteinTelescopeP1600143', freq = Freq_3G)\n",
    "\n",
    "CE1 = Detector(name = 'CE1', origin = 'Princess', configuration = 'CE1', psd_file = 'CE_20km', freq = Freq_3G)\n",
    "CE2 = Detector(name = 'CE2', origin = 'Princess', configuration = 'CE2', psd_file = 'CE_40km', freq = Freq_3G)\n",
    "ETn = Network(name='ET', compo=[E1,E2,E3], pic_file='AuxiliaryFiles/PICs/ET.txt',SNR_thrs=12, duration = 1.)\n",
    "twoCE = Network(name='2CE', compo=[CE1,CE2], pic_file='AuxiliaryFiles/PICs/ET2CE.txt',SNR_thrs=12, duration = 1.)\n",
    "ET2CE = Network(name='ET2CE', compo=[E1,E2,E3, CE1,CE2], pic_file='AuxiliaryFiles/PICs/ET2CE.txt',SNR_thrs=12, duration = 1)\n",
    "Networks_3G_bkg = [ETn, twoCE, ET2CE]\n",
    "Zelda.Analysis(Networks = Networks_3G_bkg)\n",
    "Zelda.Write_results()"
   ]
  },
  {
   "cell_type": "code",
   "execution_count": 13,
   "id": "9b021f0a",
   "metadata": {},
   "outputs": [
    {
     "ename": "TypeError",
     "evalue": "'NoneType' object is not subscriptable",
     "output_type": "error",
     "traceback": [
      "\u001b[0;31m---------------------------------------------------------------------------\u001b[0m",
      "\u001b[0;31mTypeError\u001b[0m                                 Traceback (most recent call last)",
      "\u001b[0;32m/tmp/ipykernel_306855/1374399593.py\u001b[0m in \u001b[0;36m<module>\u001b[0;34m\u001b[0m\n\u001b[0;32m----> 1\u001b[0;31m \u001b[0mZelda\u001b[0m\u001b[0;34m.\u001b[0m\u001b[0mAnalysis\u001b[0m\u001b[0;34m(\u001b[0m\u001b[0mNetworks\u001b[0m \u001b[0;34m=\u001b[0m \u001b[0mNetworks_2G\u001b[0m\u001b[0;34m)\u001b[0m\u001b[0;34m\u001b[0m\u001b[0;34m\u001b[0m\u001b[0m\n\u001b[0m\u001b[1;32m      2\u001b[0m \u001b[0mZelda\u001b[0m\u001b[0;34m.\u001b[0m\u001b[0mWrite_results\u001b[0m\u001b[0;34m(\u001b[0m\u001b[0;34m)\u001b[0m\u001b[0;34m\u001b[0m\u001b[0;34m\u001b[0m\u001b[0m\n",
      "\u001b[0;32m~/PycharmProjects/Princess/Stochastic/princess.py\u001b[0m in \u001b[0;36mAnalysis\u001b[0;34m(self, Networks)\u001b[0m\n\u001b[1;32m    104\u001b[0m \u001b[0;31m#                SNRtot = SNR.SNR_bkg(Omega_e0['f'],Omega_e0['Total'], Networks[N])\u001b[0m\u001b[0;34m\u001b[0m\u001b[0;34m\u001b[0m\u001b[0m\n\u001b[1;32m    105\u001b[0m \u001b[0;31m#                print(SNRres,' ', Networks[N].name)\u001b[0m\u001b[0;34m\u001b[0m\u001b[0;34m\u001b[0m\u001b[0m\n\u001b[0;32m--> 106\u001b[0;31m                 \u001b[0mAna\u001b[0m\u001b[0;34m[\u001b[0m\u001b[0mNetworks\u001b[0m\u001b[0;34m[\u001b[0m\u001b[0mN\u001b[0m\u001b[0;34m]\u001b[0m\u001b[0;34m.\u001b[0m\u001b[0mname\u001b[0m\u001b[0;34m]\u001b[0m\u001b[0;34m[\u001b[0m\u001b[0;34m'SNR_Residual'\u001b[0m\u001b[0;34m]\u001b[0m \u001b[0;34m=\u001b[0m \u001b[0mSNR\u001b[0m\u001b[0;34m.\u001b[0m\u001b[0mSNR_bkg\u001b[0m\u001b[0;34m(\u001b[0m\u001b[0mOmega_e0\u001b[0m\u001b[0;34m[\u001b[0m\u001b[0;34m'f'\u001b[0m\u001b[0;34m]\u001b[0m\u001b[0;34m,\u001b[0m \u001b[0mOmega_e0\u001b[0m\u001b[0;34m[\u001b[0m\u001b[0mNetworks\u001b[0m\u001b[0;34m[\u001b[0m\u001b[0mN\u001b[0m\u001b[0;34m]\u001b[0m\u001b[0;34m.\u001b[0m\u001b[0mname\u001b[0m\u001b[0;34m]\u001b[0m\u001b[0;34m,\u001b[0m \u001b[0mNetworks\u001b[0m\u001b[0;34m[\u001b[0m\u001b[0mN\u001b[0m\u001b[0;34m]\u001b[0m\u001b[0;34m)\u001b[0m\u001b[0;34m\u001b[0m\u001b[0;34m\u001b[0m\u001b[0m\n\u001b[0m\u001b[1;32m    107\u001b[0m                 \u001b[0mAna\u001b[0m\u001b[0;34m[\u001b[0m\u001b[0mNetworks\u001b[0m\u001b[0;34m[\u001b[0m\u001b[0mN\u001b[0m\u001b[0;34m]\u001b[0m\u001b[0;34m.\u001b[0m\u001b[0mname\u001b[0m\u001b[0;34m]\u001b[0m\u001b[0;34m[\u001b[0m\u001b[0;34m'SNR_Total'\u001b[0m\u001b[0;34m]\u001b[0m \u001b[0;34m=\u001b[0m \u001b[0mSNR\u001b[0m\u001b[0;34m.\u001b[0m\u001b[0mSNR_bkg\u001b[0m\u001b[0;34m(\u001b[0m\u001b[0mOmega_e0\u001b[0m\u001b[0;34m[\u001b[0m\u001b[0;34m'f'\u001b[0m\u001b[0;34m]\u001b[0m\u001b[0;34m,\u001b[0m\u001b[0mOmega_e0\u001b[0m\u001b[0;34m[\u001b[0m\u001b[0;34m'Total'\u001b[0m\u001b[0;34m]\u001b[0m\u001b[0;34m,\u001b[0m \u001b[0mNetworks\u001b[0m\u001b[0;34m[\u001b[0m\u001b[0mN\u001b[0m\u001b[0;34m]\u001b[0m\u001b[0;34m)\u001b[0m\u001b[0;34m\u001b[0m\u001b[0;34m\u001b[0m\u001b[0m\n\u001b[1;32m    108\u001b[0m             \u001b[0mself\u001b[0m\u001b[0;34m.\u001b[0m\u001b[0manadict\u001b[0m\u001b[0;34m[\u001b[0m\u001b[0mcat\u001b[0m\u001b[0;34m]\u001b[0m \u001b[0;34m=\u001b[0m \u001b[0mAna\u001b[0m\u001b[0;34m\u001b[0m\u001b[0;34m\u001b[0m\u001b[0m\n",
      "\u001b[0;32m~/PycharmProjects/Princess/Stochastic/snr.py\u001b[0m in \u001b[0;36mSNR_bkg\u001b[0;34m(freq_omg, Omega, Network)\u001b[0m\n\u001b[1;32m     15\u001b[0m     \u001b[0mgamma\u001b[0m \u001b[0;34m=\u001b[0m\u001b[0mpd\u001b[0m\u001b[0;34m.\u001b[0m\u001b[0mread_csv\u001b[0m\u001b[0;34m(\u001b[0m\u001b[0;34m'./AuxiliaryFiles/ORFs/ORF.dat'\u001b[0m\u001b[0;34m,\u001b[0m \u001b[0msep\u001b[0m \u001b[0;34m=\u001b[0m \u001b[0;34m'\\t'\u001b[0m\u001b[0;34m,\u001b[0m \u001b[0mindex_col\u001b[0m \u001b[0;34m=\u001b[0m \u001b[0;32mNone\u001b[0m\u001b[0;34m)\u001b[0m\u001b[0;34m\u001b[0m\u001b[0;34m\u001b[0m\u001b[0m\n\u001b[1;32m     16\u001b[0m     \u001b[0mfreq\u001b[0m \u001b[0;34m=\u001b[0m \u001b[0mNetwork\u001b[0m\u001b[0;34m.\u001b[0m\u001b[0mfreq\u001b[0m\u001b[0;34m\u001b[0m\u001b[0;34m\u001b[0m\u001b[0m\n\u001b[0;32m---> 17\u001b[0;31m     \u001b[0mdeltaF\u001b[0m \u001b[0;34m=\u001b[0m \u001b[0mfreq\u001b[0m\u001b[0;34m[\u001b[0m\u001b[0;36m1\u001b[0m\u001b[0;34m]\u001b[0m\u001b[0;34m-\u001b[0m\u001b[0mfreq\u001b[0m\u001b[0;34m[\u001b[0m\u001b[0;36m0\u001b[0m\u001b[0;34m]\u001b[0m\u001b[0;34m\u001b[0m\u001b[0;34m\u001b[0m\u001b[0m\n\u001b[0m\u001b[1;32m     18\u001b[0m     \u001b[0minterp\u001b[0m \u001b[0;34m=\u001b[0m \u001b[0mInterpolatedUnivariateSpline\u001b[0m\u001b[0;34m(\u001b[0m\u001b[0mfreq_omg\u001b[0m\u001b[0;34m,\u001b[0m \u001b[0mOmega\u001b[0m\u001b[0;34m)\u001b[0m\u001b[0;34m\u001b[0m\u001b[0;34m\u001b[0m\u001b[0m\n\u001b[1;32m     19\u001b[0m     \u001b[0mOmega_interp\u001b[0m \u001b[0;34m=\u001b[0m \u001b[0minterp\u001b[0m\u001b[0;34m(\u001b[0m\u001b[0mfreq\u001b[0m\u001b[0;34m)\u001b[0m\u001b[0;34m\u001b[0m\u001b[0;34m\u001b[0m\u001b[0m\n",
      "\u001b[0;31mTypeError\u001b[0m: 'NoneType' object is not subscriptable"
     ]
    }
   ],
   "source": [
    "Zelda.Analysis(Networks = Networks_2G)\n",
    "Zelda.Write_results()"
   ]
  },
  {
   "cell_type": "code",
   "execution_count": null,
   "id": "723e09d1",
   "metadata": {},
   "outputs": [],
   "source": []
  },
  {
   "cell_type": "code",
   "execution_count": null,
   "id": "d5d4cf73",
   "metadata": {},
   "outputs": [],
   "source": []
  },
  {
   "cell_type": "code",
   "execution_count": null,
   "id": "36926fb8",
   "metadata": {},
   "outputs": [],
   "source": []
  },
  {
   "cell_type": "code",
   "execution_count": null,
   "id": "b60e8cf5",
   "metadata": {},
   "outputs": [],
   "source": []
  }
 ],
 "metadata": {
  "kernelspec": {
   "display_name": "Python 3 (ipykernel)",
   "language": "python",
   "name": "python3"
  },
  "language_info": {
   "codemirror_mode": {
    "name": "ipython",
    "version": 3
   },
   "file_extension": ".py",
   "mimetype": "text/x-python",
   "name": "python",
   "nbconvert_exporter": "python",
   "pygments_lexer": "ipython3",
   "version": "3.10.12"
  }
 },
 "nbformat": 4,
 "nbformat_minor": 5
}
