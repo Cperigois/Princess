{
 "cells": [
  {
   "cell_type": "code",
   "execution_count": 1,
   "id": "25569c9d",
   "metadata": {},
   "outputs": [],
   "source": [
    "import os\n",
    "import numpy as np\n",
    "#from Starter.Detection import Detector, Network\n",
    "from Stochastic import Princess as SP\n",
    "from Starter.AstroModel import AstroModel\n",
    "from Starter import Detection\n",
    "from Individual.Individual_analysis import IndividualAnalysis as IA\n"
   ]
  },
  {
   "cell_type": "markdown",
   "id": "eb684d43",
   "metadata": {},
   "source": [
    "\n",
    "<div>\n",
    "<img src=\"./Wiki/Princess_logo.png\" width=\"300\"/>\n",
    "</div>\n",
    "\n",
    "# Princess: Guide for a first calculation\n",
    "\n",
    "\n",
    "This file goes step-by-step through the calculation of an astrophysical background starting from a CBC catalogue.\n",
    "For mode details about the code structure and basic calculations please visit the README.md file.\n",
    "Princess as two companioin paper which give more details on the physica behind these calculations.\n",
    "\n",
    "This toolkit aims to be user friendly and useful to the collaboration. If you have any comments, issues or requests please contact the administrator (_caroleperigois@outlook.com_).\n",
    "\n",
    "The calculation of the background goes through four main step, defining the four sections of this file.\n",
    "1. Prepare your model\n",
    "2. Prepare your detectors and Networks\n",
    "3. Calculate the background\n",
    "4. Analyse our background"
   ]
  },
  {
   "cell_type": "markdown",
   "id": "a6f5be71",
   "metadata": {},
   "source": [
    "## 1. Prepare your model: \n",
    "All population synthesis codes may have different outputs. In the next steps the code will re-build catalogues insuring that it contains all the required parameters for the next steps of calculation.\n",
    "Your astrophysical model will be set in a class Princess.Astromodel and takes in entry several parameter.\n",
    "* `cat_name`: (_str_) is the name you want to use for your model\n",
    "* `original_cat_path`: (_str_) path to your original astrophysical catalogue\n",
    "* `cat_sep`: (_str_) separator used in your original catalogue (default is tab)\n",
    "* `index_column`: (_bool_) does your original file contain a columns with indexes (default is None)\n",
    "* `flags`: (_dict_) this option allow to differenciate different types of CBCs is a Model. If you add this option you need to set up a dictionnary of the different categories. For example in the checks the original catalogue contain a column called 'flag' wher can be found identifiers 1 for isolated BBH and 2 for cluster BBH. Therefore the dictionnary looks like Flags = {'1': 'Iso', '2':'Cluster'}. In the next steps the code will build two catalogues out from the initial model (default is None).\n",
    "\n"
   ]
  },
  {
   "cell_type": "code",
   "execution_count": 2,
   "id": "1f933af4",
   "metadata": {},
   "outputs": [
    {
     "name": "stdout",
     "output_type": "stream",
     "text": [
      "0\n"
     ]
    }
   ],
   "source": [
    "path_2_catalogue_folder =  '/home/perigois/Documents/GreatWizardOz/Bkg_uncertainties/'\n",
    "Flags = {'1': 'Orig', '2':'Exch'}\n",
    "Cat = 'Test_week.dat'\n",
    "Astromodel = AstroModel(cat_name= 'Princess_Test', original_cat_path = path_2_catalogue_folder+Cat, \n",
    "                         cat_sep = \" \", index_column = None, spin_option = 'rand_Dynamics')"
   ]
  },
  {
   "cell_type": "markdown",
   "id": "d8396764",
   "metadata": {},
   "source": [
    "If your original catalogue do not have header you can set one using the method makeHeader on your model. In the next liste are the labels allowed by the code, please note that for the masse you will need to have or the chirp mass and the mass ratio, or the two masses m1 and m2.\n",
    "* Mc : Chirp mass in the source frame [Msun]\n",
    "* q : mass ratio in the source frame\n",
    "* m1 : mass of the first component (m1>m2) in the source frame [Msun]\n",
    "* m2 : mass of the secondary component (m2<m1) in the source frame [Msun]\n",
    "* Xeff : effective spin\n",
    "* s1 : individual spin factor of the first component\n",
    "* s2 : individual spin factor of the second component\n",
    "* theta1 : angle between the first spin component and the angular momentum of the binary [rad]\n",
    "* theta2 : angle between the second spin component and the angular momentum of the binary [rad] \n",
    "* a0 : semi-major axis at the formaiton of the second compact object [Rsun]\n",
    "* e0 : eccentricity at the formation of the second compact object  \n",
    "* inc : inclinaison angle [rad]       \n",
    "* zm : redshift of merger\n",
    "* zf : redshift of formation  \n",
    "* Dl : luminosity distance [Mpc]\n",
    "* flag : this columns cam contain a flag to differenciate sources"
   ]
  },
  {
   "cell_type": "markdown",
   "id": "14cb00ba",
   "metadata": {},
   "source": [
    "Set spin option:\n",
    "    True if you want to include spin in your calculations of the waveforms and background and you have the spin in your catalogue\n",
    "    'Zero' if you don't want to use the spin, the code set all spins to 0.\n",
    "    Model if you want Princess to generate spin values - Option available later -"
   ]
  },
  {
   "cell_type": "markdown",
   "id": "45119355",
   "metadata": {},
   "source": [
    "Finally the MakeCat method generate the catalogue with all requiered parameters"
   ]
  },
  {
   "cell_type": "code",
   "execution_count": 3,
   "id": "15d11f86",
   "metadata": {},
   "outputs": [
    {
     "name": "stdout",
     "output_type": "stream",
     "text": [
      "Astromodel loaded and ready :)\n"
     ]
    }
   ],
   "source": [
    "#Astromodel.makeCat()\n",
    "\n",
    "print('Astromodel loaded and ready :)')"
   ]
  },
  {
   "cell_type": "markdown",
   "id": "7fb68a93",
   "metadata": {},
   "source": [
    "## 2. Detectors and Networks\n",
    "In this part is detailed the context of the study starting by defining the range of frequency `Freq` and the waveforms `WF_approx` to use. In this version the range has to be linear in the future specific function will be added to allow log scale, in particular for LISA band. The available waveforms are the ones define in PyCBC and the analytic one from Ajith2011. The calculation with Ajith waveforms is computationnaly more expensive and therefore not recommended.   "
   ]
  },
  {
   "cell_type": "code",
   "execution_count": 4,
   "id": "fd8baf4a",
   "metadata": {},
   "outputs": [],
   "source": [
    "Freq_2G = np.linspace(10, 1000, 991)\n",
    "Freq_3G = np.linspace(1, 1000, 1000)\n",
    "WF_approx = \"IMRPhenomD\""
   ]
  },
  {
   "cell_type": "markdown",
   "id": "f970481a",
   "metadata": {},
   "source": [
    "In Princess two classes has been build for this purpose in the file _Starter/Detection_ in order to define Detectors and combine them to build a Network. The Detector class takes in entry several parameters:\n",
    "* `det_name`: (_str_) is the name you give to the detector\n",
    "* `Pycbc`: (_bool_) True if the sensitivity is available in PyCBC, else False\n",
    "* `psd_file`: (_str_) name of the sensitivity in PyCBC, or file where your sensitivity is stored\n",
    "* `freq`: (_np.array_) frequency range of the study"
   ]
  },
  {
   "cell_type": "code",
   "execution_count": 5,
   "id": "2c215ca9",
   "metadata": {},
   "outputs": [],
   "source": [
    "H = Detection.Detector(det_name = 'H', origin = 'Pycbc', configuration = 'H', psd_file = 'aLIGODesignSensitivityP1200087', freq = Freq_2G)\n",
    "L = Detection.Detector(det_name = 'L', origin = 'Pycbc', configuration = 'L', psd_file = 'aLIGODesignSensitivityP1200087', freq = Freq_2G)\n",
    "V = Detection.Detector(det_name = 'V', origin = 'Pycbc', configuration = 'V', psd_file = 'AdVDesignSensitivityP1200087', freq = Freq_2G)"
   ]
  },
  {
   "cell_type": "code",
   "execution_count": 6,
   "id": "6c809623",
   "metadata": {},
   "outputs": [],
   "source": [
    "ET = Detection.Detector(det_name = 'ET', configuration = 'ET', origin = 'Pycbc', psd_file = 'EinsteinTelescopeP1600143', freq = Freq_3G)\n",
    "CE1 = Detection.Detector(det_name = 'CE1', origin = 'Princess', configuration = 'H', psd_file = 'CE_20km', freq = Freq_3G)\n",
    "CE2 = Detection.Detector(det_name = 'CE2', origin = 'Princess', configuration = 'L', psd_file = 'CE_40km', freq = Freq_3G)"
   ]
  },
  {
   "cell_type": "markdown",
   "id": "a23462e7",
   "metadata": {},
   "source": [
    "The second class Network allow to combine different detectors to build a Network.A Network takes in entry: \n",
    "* `net_name`: (_str_) Name of the network\n",
    "* `compo`: (_list of detectors_) List of the detectors in the network.\n",
    "* `pic_file`: (_str_) link to the file of the power integrated curve.\n",
    "* `efficiency`: (_float_) between 0 and 1 define the effective time of observation of the Network. For example during O3a, in the Hanford-Livinstone-Virgo network only 50% of the data can be used with the three pipelines. The rest of the time at least on detector pipeline was unusuable.\n",
    "* `SNR_thrs`: (_int_ or _float_) Define the SNR threshold for which we assume a source is detectable\n",
    "* `SNR_sub`: (_int_ or _float_) Define the SNR threshold to substract the sources. For example its commonly assumed that in HLV all source with an SNR above 8 are resolved. However for a reason of parameter uncertainty the calculation of the residual background is done by subtracting only source with a SNR above 12. \n",
    "\n",
    "\n",
    "**If only one detector is used in the study it still has to be set as a detector.**\n",
    "\n",
    "The variable `Networks` gather all the networks used in the study.\n"
   ]
  },
  {
   "cell_type": "code",
   "execution_count": 7,
   "id": "f6505545",
   "metadata": {},
   "outputs": [],
   "source": [
    "HLV_Des = Detection.Network(net_name = 'HLV',compo=[H,L,V], pic_file = 'AuxiliaryFiles/PICs/Design_HLV_flow_10.txt' , efficiency = 0.5,SNR_thrs = 12 )\n",
    "Networks_2G = [HLV_Des]"
   ]
  },
  {
   "cell_type": "code",
   "execution_count": 8,
   "id": "5b9e29f8",
   "metadata": {},
   "outputs": [],
   "source": [
    "ETn = Detection.Network(net_name='ET', compo=[ET], pic_file='AuxiliaryFiles/PICs/ET2CE.txt',SNR_thrs=12)\n",
    "twoCE = Detection.Network(net_name='2CE', compo=[CE1,CE2], pic_file='AuxiliaryFiles/PICs/ET2CE.txt',SNR_thrs=12)\n",
    "ET2CE = Detection.Network(net_name='ET2CE', compo=[ET,CE1,CE2], pic_file='AuxiliaryFiles/PICs/ET2CE.txt',SNR_thrs=12)\n",
    "Networks_3G = [ETn, twoCE, ET2CE]"
   ]
  },
  {
   "cell_type": "markdown",
   "id": "46425125",
   "metadata": {},
   "source": [
    "Finally the method `compute_SNR`, compute the SNR of each sources of the model, and update the catalogue(s) with a new parameter column named by `net_name` containing the SNR in the corresponding network."
   ]
  },
  {
   "cell_type": "code",
   "execution_count": 9,
   "id": "a15dc4f3",
   "metadata": {},
   "outputs": [],
   "source": [
    "#Astromodel.compute_SNR_opt(Networks = Networks_3G, freq = Freq_3G, approx = WF_approx)"
   ]
  },
  {
   "cell_type": "markdown",
   "id": "f3ebe6ac",
   "metadata": {},
   "source": [
    "## 5. Individual analysis \n",
    "This package of the code aims to predict individual observation from LIGO-Virgo from a predefined astrophysical model. As for the background computation the user has to predefine his analysis with the _class_ 'IndividualAnalysis'. This class takes in entry the limits of the study and the assumption on GW events observations.\n",
    "\n",
    "* `name`: (_str_) Name used to label the output.\n",
    "* `params` : (_dict_) parameters the user want to compare and the range [minimum, maximum, bins]. Default are : {'m1': [0, 100, 100], 'q': [0, 1, 20], 'zm': [0, 5, 30]}\n",
    "* `iteration` : (_int_) number of iteration to extract the errors on observations\n",
    "* `Network` : (Network from _class_ 'Network') network to use in the study\n",
    "* `binary_type` : (_list_ of _str_) type of binaries to be compared. Default is ['BBH', 'BNS', 'NSBH'].\n",
    "* `pastro_thrs` : (_float_) threshold to select sources from the data for the comparison. Default is 0.\n",
    "* `SNR_thrs` : (_float_) threshold to select sources from the data for the comparison. Default is 0.\n",
    "* `FAR_thrs` : (_float_) threshold to select sources from the data for the comparison. Default is 2.\n",
    "* `iteration` : (_int_) The number of iteration used to set up the position in the sky, this is used to extract an error on the number of detections.\n",
    "\n",
    "The method `Full_Analysis` is used to start the computation of the analysis."
   ]
  },
  {
   "cell_type": "code",
   "execution_count": 10,
   "id": "2dae65e3",
   "metadata": {},
   "outputs": [],
   "source": [
    "#Analysis = IA(name = 'PRINCESS_check', params =  {'m1': [0, 100, 100], 'm2': [0, 100, 100], 'Mc': [0, 70, 100]},\n",
    "#                             Networks = Networks_3G, binary_type = ['BBH'], iteration = 1)\n",
    "#Analysis.Full_Analysis(Model = Astromodel, update_file = False)"
   ]
  },
  {
   "cell_type": "markdown",
   "id": "9e44e590",
   "metadata": {},
   "source": [
    "## 4. Calculate the corresponding background:\n",
    "\n",
    "Prepare the calculation of the background with the class `Princess` :\n",
    "* `freq`: (_np.array_) frequency range, preferentially the one used since the beginning. In linear scale before the LISA update\n",
    "* `approx`: (_str_) waveform approximation\n",
    "* `freq_ref`: (_list of float_) list of frequency of interest for the study, is usually 10Hz for 3G detectors and 25Hz for 2G.\n",
    "\n",
    "Then the calculation is done by using the method `Omega_pycbc`"
   ]
  },
  {
   "cell_type": "code",
   "execution_count": 11,
   "id": "808d74bb",
   "metadata": {},
   "outputs": [],
   "source": [
    "Zelda = SP.Princess(Freq_3G, astromodel = Astromodel, approx = WF_approx, Omega_ana_freq = [25.], Networks = Networks_3G, inclination = \"Rand\")\n",
    "#Zelda.Omega_pycbc(Networks= Networks_3G)"
   ]
  },
  {
   "cell_type": "markdown",
   "id": "43185834",
   "metadata": {},
   "source": [
    "## 4. Analyse the background\n",
    "This part of the code aims to extract reference values for the predicted background. Usual values are the amplitude at 10 and 25 Hz, the SNR, the number of resolved soures, the ratio of detected sources, and the ratio between residuals and total backgrouns at a reference value."
   ]
  },
  {
   "cell_type": "code",
   "execution_count": 12,
   "id": "3e145271",
   "metadata": {},
   "outputs": [
    {
     "ename": "TypeError",
     "evalue": "Analysis() got multiple values for argument 'Networks'",
     "output_type": "error",
     "traceback": [
      "\u001b[0;31m---------------------------------------------------------------------------\u001b[0m",
      "\u001b[0;31mTypeError\u001b[0m                                 Traceback (most recent call last)",
      "\u001b[0;32m<ipython-input-12-c577bf6e26af>\u001b[0m in \u001b[0;36m<module>\u001b[0;34m\u001b[0m\n\u001b[1;32m      6\u001b[0m \u001b[0;34m\u001b[0m\u001b[0m\n\u001b[1;32m      7\u001b[0m \u001b[0;32mfor\u001b[0m \u001b[0mn\u001b[0m \u001b[0;32min\u001b[0m \u001b[0mNetworks_3G\u001b[0m \u001b[0;34m:\u001b[0m\u001b[0;34m\u001b[0m\u001b[0;34m\u001b[0m\u001b[0m\n\u001b[0;32m----> 8\u001b[0;31m     \u001b[0mZelda\u001b[0m\u001b[0;34m.\u001b[0m\u001b[0mAnalysis\u001b[0m\u001b[0;34m(\u001b[0m\u001b[0mAstromodel\u001b[0m\u001b[0;34m,\u001b[0m \u001b[0mNetworks\u001b[0m \u001b[0;34m=\u001b[0m \u001b[0mn\u001b[0m\u001b[0;34m)\u001b[0m\u001b[0;34m\u001b[0m\u001b[0;34m\u001b[0m\u001b[0m\n\u001b[0m",
      "\u001b[0;31mTypeError\u001b[0m: Analysis() got multiple values for argument 'Networks'"
     ]
    }
   ],
   "source": [
    "E1 = Detection.Detector(det_name = 'ET', configuration = 'E1', origin = 'Pycbc', psd_file = 'EinsteinTelescopeP1600143', freq = Freq_3G)\n",
    "E2 = Detection.Detector(det_name = 'ET', configuration = 'E2', origin = 'Pycbc', psd_file = 'EinsteinTelescopeP1600143', freq = Freq_3G)\n",
    "E3 = Detection.Detector(det_name = 'ET', configuration = 'E3', origin = 'Pycbc', psd_file = 'EinsteinTelescopeP1600143', freq = Freq_3G)\n",
    "\n",
    "ETn = Detection.Network(net_name='ET', compo=[E1, E2, E3], pic_file='AuxiliaryFiles/PICs/ET.txt',SNR_thrs=12)\n",
    "\n",
    "Zelda.Analysis(Networks = Networks_3G)"
   ]
  },
  {
   "cell_type": "code",
   "execution_count": null,
   "id": "9b021f0a",
   "metadata": {},
   "outputs": [],
   "source": []
  },
  {
   "cell_type": "code",
   "execution_count": null,
   "id": "723e09d1",
   "metadata": {},
   "outputs": [],
   "source": []
  },
  {
   "cell_type": "code",
   "execution_count": null,
   "id": "d5d4cf73",
   "metadata": {},
   "outputs": [],
   "source": []
  },
  {
   "cell_type": "code",
   "execution_count": null,
   "id": "36926fb8",
   "metadata": {},
   "outputs": [],
   "source": []
  },
  {
   "cell_type": "code",
   "execution_count": null,
   "id": "b60e8cf5",
   "metadata": {},
   "outputs": [],
   "source": []
  }
 ],
 "metadata": {
  "kernelspec": {
   "display_name": "Python 3",
   "language": "python",
   "name": "python3"
  },
  "language_info": {
   "codemirror_mode": {
    "name": "ipython",
    "version": 3
   },
   "file_extension": ".py",
   "mimetype": "text/x-python",
   "name": "python",
   "nbconvert_exporter": "python",
   "pygments_lexer": "ipython3",
   "version": "3.8.8"
  }
 },
 "nbformat": 4,
 "nbformat_minor": 5
}
