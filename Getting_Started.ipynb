{
 "cells": [
  {
   "cell_type": "code",
   "execution_count": 1,
   "id": "25569c9d",
   "metadata": {},
   "outputs": [],
   "source": [
    "import os\n",
    "import numpy as np\n",
    "#from Starter.Detection import Detector, Network\n",
    "from Stochastic import Princess as SP\n",
    "from Starter.AstroModel import Astromodel\n",
    "from Starter import Detection"
   ]
  },
  {
   "cell_type": "markdown",
   "id": "eb684d43",
   "metadata": {},
   "source": [
    "\n",
    "<div>\n",
    "<img src=\"./Wiki/Princess_logo.png\" width=\"300\"/>\n",
    "</div>\n",
    "\n",
    "# Princess: Guide for a first calculation\n",
    "\n",
    "\n",
    "This file goes step-by-step through the calculation of an astrophysical background starting from a CBC catalogue.\n",
    "For mode details about the code structure and basic calculations please visit the README.md file.\n",
    "Princess as two companioin paper which give more details on the physica behind these calculations.\n",
    "\n",
    "This toolkit aims to be user friendly and useful to the collaboration. If you have any comments, issues or requests please contact the administrator (_caroleperigois@outlook.com_).\n",
    "\n",
    "The calculation of the background goes through four main step, defining the four sections of this file.\n",
    "1. Prepare your model\n",
    "2. Prepare your detectors and Networks\n",
    "3. Calculate the background\n",
    "4. Analyse our background"
   ]
  },
  {
   "cell_type": "markdown",
   "id": "a6f5be71",
   "metadata": {},
   "source": [
    "## 1. Prepare your model: \n",
    "All population synthesis codes may have different outputs. In the next steps the code will re-build catalogues insuring that it contains all the required parameters for the next steps of calculation.\n",
    "Your astrophysical model will be set in a class Princess.Astromodel and takes in entry several parameter.\n",
    "* `cat_name`: (_str_) is the name you want to use for your model\n",
    "* `original_cat_path`: (_str_) path to your original astrophysical catalogue\n",
    "* `cat_sep`: (_str_) separator used in your original catalogue (default is tab)\n",
    "* `index_column`: (_bool_) does your original file contain a columns with indexes (default is None)\n",
    "* `flags`: (_dict_) this option allow to differenciate different types of CBCs is a Model. If you add this option you need to set up a dictionnary of the different categories. For example in the checks the original catalogue contain a column called 'flag' wher can be found identifiers 1 for isolated BBH and 2 for cluster BBH. Therefore the dictionnary looks like Flags = {'1': 'Iso', '2':'Cluster'}. In the next steps the code will build two catalogues out from the initial model (default is None).\n",
    "\n"
   ]
  },
  {
   "cell_type": "code",
   "execution_count": 2,
   "id": "1f933af4",
   "metadata": {},
   "outputs": [],
   "source": [
    "# path_2_cat_folder contains the path to your original catalogue\n",
    "path_2_cat_folder =  '/home/perigois/Documents/GreatWizardOz/'\n",
    "Flags = {'1': 'Orig', '2':'Exch', '3':'Iso'}\n",
    "Cat = 'Cat_stochastic_dyn_BBHs.dat'\n",
    "astromodel1 = Astromodel(cat_name= 'BBH_YSCs', original_cat_path = path_2_cat_folder+Cat, \n",
    "                         cat_sep = \"\\t\", index_column = None, flags = Flags, spin_option = 'rand_Dynamics')"
   ]
  },
  {
   "cell_type": "markdown",
   "id": "d8396764",
   "metadata": {},
   "source": [
    "If your original catalogue do not have header you can set one using the method makeHeader on your model. In the next liste are the labels allowed by the code, please note that for the masse you will need to have or the chirp mass and the mass ratio, or the two masses m1 and m2.\n",
    "* Mc : Chirp mass in the source frame [Msun]\n",
    "* q : mass ratio in the source frame\n",
    "* m1 : mass of the first component (m1>m2) in the source frame [Msun]\n",
    "* m2 : mass of the secondary component (m2<m1) in the source frame [Msun]\n",
    "* Xeff : effective spin\n",
    "* s1 : individual spin factor of the first component\n",
    "* s2 : individual spin factor of the second component\n",
    "* theta1 : angle between the first spin component and the angular momentum of the binary [rad]\n",
    "* theta2 : angle between the second spin component and the angular momentum of the binary [rad] \n",
    "* a0 : semi-major axis at the formaiton of the second compact object [Rsun]\n",
    "* e0 : eccentricity at the formation of the second compact object  \n",
    "* inc : inclinaison angle [rad]       \n",
    "* zm : redshift of merger\n",
    "* zf : redshift of formation  \n",
    "* Dl : luminosity distance [Mpc]\n",
    "* flag : this columns cam contain a flag to differenciate sources"
   ]
  },
  {
   "cell_type": "code",
   "execution_count": 3,
   "id": "45a1fa32",
   "metadata": {},
   "outputs": [],
   "source": [
    "#astromodel1.makeHeader(['Mc','q','zm','zf','t_del','Z','a0','e','flag'])"
   ]
  },
  {
   "cell_type": "markdown",
   "id": "14cb00ba",
   "metadata": {},
   "source": [
    "Set spin option:\n",
    "    True if you want to include spin in your calculations of the waveforms and background and you have the spin in your catalogue\n",
    "    'Zero' if you don't want to use the spin, the code set all spins to 0.\n",
    "    Model if you want Princess to generate spin values - Option available later -"
   ]
  },
  {
   "cell_type": "code",
   "execution_count": 4,
   "id": "5cff4b81",
   "metadata": {},
   "outputs": [],
   "source": [
    "IncAndPos = False\n",
    "orbit_evo = False"
   ]
  },
  {
   "cell_type": "markdown",
   "id": "45119355",
   "metadata": {},
   "source": [
    "Finally the MakeCat method generate the catalogue with all requiered parameters"
   ]
  },
  {
   "cell_type": "code",
   "execution_count": 5,
   "id": "15d11f86",
   "metadata": {},
   "outputs": [
    {
     "name": "stdout",
     "output_type": "stream",
     "text": [
      "                  Mc              q              z             zf  \\\n",
      "count  107771.000000  107771.000000  107771.000000  107771.000000   \n",
      "mean       14.538996       0.742064       2.464185       6.116513   \n",
      "std         8.026325       0.203923       1.427582       4.103212   \n",
      "min         4.803410       0.135198       0.044725       0.155000   \n",
      "25%         6.877321       0.600000       1.473135       2.435000   \n",
      "50%        13.399752       0.787523       2.170265       4.955000   \n",
      "75%        21.680084       0.902443       3.147535       9.395000   \n",
      "max        55.827192       1.000000      13.165935      14.995000   \n",
      "\n",
      "              t_del              Z             a0              e  \\\n",
      "count  1.077710e+05  107771.000000  107771.000000  107771.000000   \n",
      "mean   1.684101e+09       0.004564    2366.661568       0.342323   \n",
      "std    1.939425e+09       0.004377   11075.793661       0.356084   \n",
      "min    2.294068e+07       0.000200       0.032131       0.000000   \n",
      "25%    3.128492e+08       0.002000      13.316083       0.001000   \n",
      "50%    1.045949e+09       0.002000      46.641668       0.184089   \n",
      "75%    2.091206e+09       0.008000     344.550259       0.610000   \n",
      "max    1.198780e+10       0.020000  238277.665746       0.999876   \n",
      "\n",
      "                flag  \n",
      "count  107771.000000  \n",
      "mean        1.484685  \n",
      "std         0.499768  \n",
      "min         1.000000  \n",
      "25%         1.000000  \n",
      "50%         1.000000  \n",
      "75%         2.000000  \n",
      "max         2.000000  \n",
      "1\n",
      "2\n",
      "3\n",
      "Astromodel loaded and ready :)\n"
     ]
    }
   ],
   "source": [
    "astromodel1.makeCat()\n",
    "\n",
    "print('Astromodel loaded and ready :)')"
   ]
  },
  {
   "cell_type": "markdown",
   "id": "7fb68a93",
   "metadata": {},
   "source": [
    "## 2. Detectors and Networks\n",
    "In this part is detailed the context of the study starting by defining the range of frequency `Freq` and the waveforms `WF_approx` to use. In this version the range has to be linear in the future specific function will be added to allow log scale, in particular for LISA band. The available waveforms are the ones define in PyCBC and the analytic one from Ajith2011. The calculation with Ajith waveforms is computationnalymore expensive and therefore not recommended.   "
   ]
  },
  {
   "cell_type": "code",
   "execution_count": 6,
   "id": "fd8baf4a",
   "metadata": {},
   "outputs": [],
   "source": [
    "Freq = np.arange(1000)+10\n",
    "WF_approx = \"IMRPhenomD\""
   ]
  },
  {
   "cell_type": "markdown",
   "id": "f970481a",
   "metadata": {},
   "source": [
    "In Princess two classes has been build for this purpose in the file _Starter/Detection_ in order to define Detectors and combine them to build a Network. The Detector class takes in entry several parameters:\n",
    "* `det_name`: (_str_) is the name you give to the detector\n",
    "* `Pycbc`: (_bool_) True if the sensitivity is available in PyCBC, else False\n",
    "* `psd_file`: (_str_) name of the sensitivity in PyCBC, or file where your sensitivity is stored\n",
    "* `freq`: (_np.array_) frequency range of the study"
   ]
  },
  {
   "cell_type": "code",
   "execution_count": 7,
   "id": "2c215ca9",
   "metadata": {},
   "outputs": [],
   "source": [
    "H = Detection.Detector(det_name = 'H', origin = 'Pycbc', configuration = 'H', psd_file = 'aLIGODesignSensitivityP1200087', freq = Freq )\n",
    "L = Detection.Detector(det_name = 'L', origin = 'Pycbc', configuration = 'L', psd_file = 'aLIGODesignSensitivityP1200087', freq = Freq )\n",
    "V = Detection.Detector(det_name = 'V', origin = 'Pycbc', configuration = 'V', psd_file = 'AdVDesignSensitivityP1200087', freq = Freq )\n",
    "\n"
   ]
  },
  {
   "cell_type": "markdown",
   "id": "a23462e7",
   "metadata": {},
   "source": [
    "The second class Network allow to combine different detectors to build a Network.A Network takes in entry: \n",
    "* `net_name`: (_str_) Name of the network\n",
    "* `compo`: (_list of detectors_) List of the detectors in the network.\n",
    "* `pic_file`: (_str_) link to the file of the power integrated curve.\n",
    "* `efficiency`: (_float_) between 0 and 1 define the effective time of observation of the Network. For example during O3a, in the Hanford-Livinstone-Virgo network only 50% of the data can be used with the three pipelines. The rest of the time at least on detector pipeline was unusuable.\n",
    "* `SNR_thrs`: (_int_ or _float_) Define the SNR threshold for which we assume a source is detectable\n",
    "* `SNR_sub`: (_int_ or _float_) Define the SNR threshold to substract the sources. For example its commonly assumed that in HLV all source with an SNR above 8 are resolved. However for a reason of parameter uncertainty the calculation of the residual background is done by subtracting only source with a SNR above 12. \n",
    "\n",
    "\n",
    "**If only one detector is used in the study it still has to be set as a detector.**\n",
    "\n",
    "The variable `Networks` gather all the networks used in the study.\n"
   ]
  },
  {
   "cell_type": "code",
   "execution_count": 8,
   "id": "f6505545",
   "metadata": {},
   "outputs": [],
   "source": [
    "HLV_Des = Detection.Network(net_name = 'HLV',compo=[H,L,V], pic_file = 'AuxiliaryFiles/PICs/Design_HLV_flow_10.txt' , efficiency = 0.5,SNR_thrs = 12 )\n",
    "\n",
    "Networks = []"
   ]
  },
  {
   "cell_type": "markdown",
   "id": "46425125",
   "metadata": {},
   "source": [
    "Finally the method `compute_SNR`, compute the SNR of each sources of the model, and update the catalogue(s) with a new parameter column named by `net_name` containing the SNR in the corresponding network."
   ]
  },
  {
   "cell_type": "code",
   "execution_count": 9,
   "id": "a15dc4f3",
   "metadata": {},
   "outputs": [],
   "source": [
    "#astromodel1.compute_SNR_opt(Networks, Freq, approx = WF_approx)"
   ]
  },
  {
   "cell_type": "markdown",
   "id": "9e44e590",
   "metadata": {},
   "source": [
    "## 3. Calculate the corresponding background:\n",
    "\n",
    "Prepare the calculation of the background with the class `Princess` :\n",
    "* `freq`: (_np.array_) frequency range, preferentially the one used since the beginning. In linear scale before the LISA update\n",
    "* `approx`: (_str_) waveform approximation\n",
    "* `freq_ref`: (_list of float_) list of frequency of interest for the study, is usually 10Hz for 3G detectors and 25Hz for 2G.\n",
    "\n",
    "Then the calculation is done by using the method Omega_pycbc"
   ]
  },
  {
   "cell_type": "code",
   "execution_count": 10,
   "id": "808d74bb",
   "metadata": {},
   "outputs": [
    {
     "name": "stdout",
     "output_type": "stream",
     "text": [
      "BBH_YSCs_Orig.dat\n",
      " ***   GW COMPUTATION   ***         0/55536\n",
      "           ■ ■■ ■             2%    1110/55536\n",
      "          ■■■■■■■■            4%    2220/55536\n",
      "          ■ ■  ■ ■            6%    3330/55536\n",
      "         ■        ■           8%    4440/55536\n",
      "         ■        ■           10%   5550/55536\n",
      "          ■■■■ ■■■            12%   6660/55536\n",
      "         ■    ■  ■■           14%   7770/55536\n",
      "        ■          ■          16%   8880/55536\n",
      "      ■■            ■         18%   9990/55536\n",
      " ■   ■              ■■        20%   11100/55536\n",
      "  ■■■                 ■       22%   12210/55536\n",
      " ■                    ■       24%   13320/55536\n",
      "  ■                  ■        26%   14430/55536\n",
      " ■         ■■     ■■  ■       28%   15540/55536\n",
      "  ■       ■  ■   ■ ■  ■       30%   16650/55536\n",
      "   ■      ■   ■■■ ■■ ■        32%   17760/55536\n",
      "    ■■ ■■ ■  ■   ■ ■■         34%   18870/55536\n",
      "    ■ ■ ■ ■  ■   ■ ■■         36%   19980/55536\n",
      "   ■  ■ ■  ■ ■   ■ ■■■        38%   21090/55536\n",
      "■■■■   ■ ■ ■       ■ ■        40%   22200/55536\n",
      " ■    ■   ■   ■■  ■ ■         42%   23310/55536\n",
      " ■     ■ ■ ■     ■■           44%   24420/55536\n",
      "  ■■  ■■■■■ ■■■■■  ■          46%   25530/55536\n",
      " ■   ■     ■     ■  ■■        48%   26640/55536\n",
      "  ■ ■       ■     ■  ■        50%   27750/55536\n",
      "  ■ ■       ■     ■  ■        52%   28860/55536\n",
      "  ■ ■      ■      ■  ■        54%   29970/55536\n",
      "  ■  ■    ■■      ■ ■         56%   31080/55536\n",
      "   ■  ■■■■  ■    ■  ■         58%   32190/55536\n",
      "   ■■    ■   ■   ■  ■         60%   33300/55536\n",
      "■■■■    ■■    ■  ■ ■          62%   34410/55536\n",
      " ■     ■  ■    ■■  ■          64%   35520/55536\n",
      "  ■   ■    ■     ■ ■          66%   36630/55536\n",
      "   ■ ■      ■     ■ ■         68%   37740/55536\n",
      "    ■        ■     ■ ■        70%   38850/55536\n",
      "              ■   ■  ■        72%   39960/55536\n",
      "   ■  ■        ■■■    ■       74%   41070/55536\n",
      "  ■  ■    ■       ■   ■       76%   42180/55536\n",
      " ■   ■   ■         ■   ■      78%   43290/55536\n",
      " ■   ■   ■         ■   ■      80%   44400/55536\n",
      " ■  ■   ■           ■  ■      82%   45510/55536\n",
      "■   ■   ■           ■  ■      84%   46620/55536\n",
      "■   ■   ■           ■   ■     86%   47730/55536\n",
      "■   ■   ■           ■   ■     88%   48840/55536\n",
      " ■  ■   ■           ■   ■     90%   49950/55536\n",
      "  ■■■   ■           ■ ■■      92%   51060/55536\n",
      "     ■■■■■■        ■■■        94%   52170/55536\n",
      "           ■■■■■■■■           96%   53280/55536\n",
      "                              98%   54390/55536\n",
      "   ***   GW COMPUTED   ***    100%  55500/55536\n",
      "Written :  Results/Omega_e0/ BBH_YSCs_Orig.dat\n",
      "BBH_YSCs_Exch.dat\n",
      " ***   GW COMPUTATION   ***         0/52235\n",
      "           ■ ■■ ■             2%    1044/52235\n",
      "          ■■■■■■■■            4%    2088/52235\n",
      "          ■ ■  ■ ■            6%    3132/52235\n",
      "         ■        ■           8%    4176/52235\n",
      "         ■        ■           10%   5220/52235\n",
      "          ■■■■ ■■■            12%   6264/52235\n",
      "         ■    ■  ■■           14%   7308/52235\n",
      "        ■          ■          16%   8352/52235\n",
      "      ■■            ■         18%   9396/52235\n",
      " ■   ■              ■■        20%   10440/52235\n",
      "  ■■■                 ■       22%   11484/52235\n",
      " ■                    ■       24%   12528/52235\n",
      "  ■                  ■        26%   13572/52235\n",
      " ■         ■■     ■■  ■       28%   14616/52235\n",
      "  ■       ■  ■   ■ ■  ■       30%   15660/52235\n",
      "   ■      ■   ■■■ ■■ ■        32%   16704/52235\n",
      "    ■■ ■■ ■  ■   ■ ■■         34%   17748/52235\n",
      "    ■ ■ ■ ■  ■   ■ ■■         36%   18792/52235\n",
      "   ■  ■ ■  ■ ■   ■ ■■■        38%   19836/52235\n",
      "■■■■   ■ ■ ■       ■ ■        40%   20880/52235\n",
      " ■    ■   ■   ■■  ■ ■         42%   21924/52235\n",
      " ■     ■ ■ ■     ■■           44%   22968/52235\n",
      "  ■■  ■■■■■ ■■■■■  ■          46%   24012/52235\n",
      " ■   ■     ■     ■  ■■        48%   25056/52235\n",
      "  ■ ■       ■     ■  ■        50%   26100/52235\n",
      "  ■ ■       ■     ■  ■        52%   27144/52235\n",
      "  ■ ■      ■      ■  ■        54%   28188/52235\n",
      "  ■  ■    ■■      ■ ■         56%   29232/52235\n",
      "   ■  ■■■■  ■    ■  ■         58%   30276/52235\n",
      "   ■■    ■   ■   ■  ■         60%   31320/52235\n",
      "■■■■    ■■    ■  ■ ■          62%   32364/52235\n",
      " ■     ■  ■    ■■  ■          64%   33408/52235\n",
      "  ■   ■    ■     ■ ■          66%   34452/52235\n",
      "   ■ ■      ■     ■ ■         68%   35496/52235\n",
      "    ■        ■     ■ ■        70%   36540/52235\n",
      "              ■   ■  ■        72%   37584/52235\n",
      "   ■  ■        ■■■    ■       74%   38628/52235\n",
      "  ■  ■    ■       ■   ■       76%   39672/52235\n",
      " ■   ■   ■         ■   ■      78%   40716/52235\n",
      " ■   ■   ■         ■   ■      80%   41760/52235\n",
      " ■  ■   ■           ■  ■      82%   42804/52235\n",
      "■   ■   ■           ■  ■      84%   43848/52235\n",
      "■   ■   ■           ■   ■     86%   44892/52235\n",
      "■   ■   ■           ■   ■     88%   45936/52235\n",
      " ■  ■   ■           ■   ■     90%   46980/52235\n",
      "  ■■■   ■           ■ ■■      92%   48024/52235\n",
      "     ■■■■■■        ■■■        94%   49068/52235\n",
      "           ■■■■■■■■           96%   50112/52235\n",
      "                              98%   51156/52235\n",
      "   ***   GW COMPUTED   ***    100%  52200/52235\n",
      "Written :  Results/Omega_e0/ BBH_YSCs_Exch.dat\n",
      "BBH_YSCs_Iso.dat\n",
      "Written :  Results/Omega_e0/ BBH_YSCs_Iso.dat\n"
     ]
    }
   ],
   "source": [
    "Zelda = SP.Princess(Freq, approx = WF_approx, Omega_ana_freq = [25.], Networks = [])\n",
    "Zelda.Omega_pycbc(astromodel1, Networks= [])"
   ]
  },
  {
   "cell_type": "markdown",
   "id": "43185834",
   "metadata": {},
   "source": [
    "## 4. Analyse the background\n",
    "This part of the code aims to extract reference values for the predicted background. Usual values are the amplitude at 10 and 25 Hz, the SNR, the number of resolved soures, the ratio of detected sources, and the ratio between residuals and total backgrouns at a reference value."
   ]
  },
  {
   "cell_type": "code",
   "execution_count": null,
   "id": "3e145271",
   "metadata": {},
   "outputs": [],
   "source": []
  },
  {
   "cell_type": "markdown",
   "id": "46ed7b3f",
   "metadata": {},
   "source": [
    "## 5. Individual analysis \n",
    "This package of the code aims to predict individual observation from LIGO-Virgo from a predefined astrophysical model. As for the background computation the user has to predefine his analysis with the _class_ 'IndividualAnalysis'. This class takes in entry the limits of the study and the assumption on GW events observations.\n",
    "\n",
    "* `params` : (_dict_) parameters the user want to compare and the range [minimum, maximum, bins]. Default are : {'m1': [0, 100, 100], 'q': [0, 1, 20], 'zm': [0, 5, 30]}\n",
    "* `iteration` : (_int_) number of iteration to extract the errors on observations\n",
    "* `Network` : (Network from _class_ 'Network') network to use in the study\n",
    "* `binary_type` : (_list_ of _str_) type of binaries to be compared. Default is ['BBH', 'BNS', 'NSBH'].\n",
    "* `pastro_thrs` : (_float_) threshold to select sources from the data for the comparison. Default is 0.\n",
    "* `SNR_thrs` : (_float_) threshold to select sources from the data for the comparison. Default is 0.\n",
    "* `FAR_thrs` : (_float_) threshold to select sources from the data for the comparison. Default is 2.\n"
   ]
  },
  {
   "cell_type": "code",
   "execution_count": 11,
   "id": "cdb4c8e2",
   "metadata": {},
   "outputs": [
    {
     "ename": "TypeError",
     "evalue": "__init__() missing 1 required positional argument: 'configuration'",
     "output_type": "error",
     "traceback": [
      "\u001b[0;31m---------------------------------------------------------------------------\u001b[0m",
      "\u001b[0;31mTypeError\u001b[0m                                 Traceback (most recent call last)",
      "\u001b[0;32m<ipython-input-11-607b594b4943>\u001b[0m in \u001b[0;36m<module>\u001b[0;34m\u001b[0m\n\u001b[0;32m----> 1\u001b[0;31m \u001b[0mH_O3b\u001b[0m \u001b[0;34m=\u001b[0m \u001b[0mDetection\u001b[0m\u001b[0;34m.\u001b[0m\u001b[0mDetector\u001b[0m\u001b[0;34m(\u001b[0m\u001b[0mdet_name\u001b[0m \u001b[0;34m=\u001b[0m \u001b[0;34m'H_O3b'\u001b[0m\u001b[0;34m,\u001b[0m \u001b[0morigin\u001b[0m \u001b[0;34m=\u001b[0m \u001b[0;34m'Princess'\u001b[0m\u001b[0;34m,\u001b[0m \u001b[0mpsd_file\u001b[0m \u001b[0;34m=\u001b[0m \u001b[0;34m'Hanford_O3b'\u001b[0m\u001b[0;34m,\u001b[0m \u001b[0mfreq\u001b[0m \u001b[0;34m=\u001b[0m \u001b[0mFreq\u001b[0m \u001b[0;34m)\u001b[0m\u001b[0;34m\u001b[0m\u001b[0;34m\u001b[0m\u001b[0m\n\u001b[0m\u001b[1;32m      2\u001b[0m \u001b[0mL_O3b\u001b[0m \u001b[0;34m=\u001b[0m \u001b[0mDetection\u001b[0m\u001b[0;34m.\u001b[0m\u001b[0mDetector\u001b[0m\u001b[0;34m(\u001b[0m\u001b[0mdet_name\u001b[0m \u001b[0;34m=\u001b[0m \u001b[0;34m'L_O3b'\u001b[0m\u001b[0;34m,\u001b[0m \u001b[0morigin\u001b[0m \u001b[0;34m=\u001b[0m \u001b[0;34m'Princess'\u001b[0m\u001b[0;34m,\u001b[0m \u001b[0mpsd_file\u001b[0m \u001b[0;34m=\u001b[0m \u001b[0;34m'Livingston_O3b'\u001b[0m\u001b[0;34m,\u001b[0m \u001b[0mfreq\u001b[0m \u001b[0;34m=\u001b[0m \u001b[0mFreq\u001b[0m \u001b[0;34m)\u001b[0m\u001b[0;34m\u001b[0m\u001b[0;34m\u001b[0m\u001b[0m\n\u001b[1;32m      3\u001b[0m \u001b[0mV_O3b\u001b[0m \u001b[0;34m=\u001b[0m \u001b[0mDetection\u001b[0m\u001b[0;34m.\u001b[0m\u001b[0mDetector\u001b[0m\u001b[0;34m(\u001b[0m\u001b[0mdet_name\u001b[0m \u001b[0;34m=\u001b[0m \u001b[0;34m'V_O3b'\u001b[0m\u001b[0;34m,\u001b[0m \u001b[0morigin\u001b[0m \u001b[0;34m=\u001b[0m \u001b[0;34m'Princess'\u001b[0m\u001b[0;34m,\u001b[0m \u001b[0mpsd_file\u001b[0m \u001b[0;34m=\u001b[0m \u001b[0;34m'Virgo_O3b'\u001b[0m\u001b[0;34m,\u001b[0m \u001b[0mfreq\u001b[0m \u001b[0;34m=\u001b[0m \u001b[0mFreq\u001b[0m \u001b[0;34m)\u001b[0m\u001b[0;34m\u001b[0m\u001b[0;34m\u001b[0m\u001b[0m\n\u001b[1;32m      4\u001b[0m \u001b[0;34m\u001b[0m\u001b[0m\n\u001b[1;32m      5\u001b[0m \u001b[0mHLV_O3b\u001b[0m \u001b[0;34m=\u001b[0m \u001b[0mDetection\u001b[0m\u001b[0;34m.\u001b[0m\u001b[0mNetwork\u001b[0m\u001b[0;34m(\u001b[0m\u001b[0mnet_name\u001b[0m \u001b[0;34m=\u001b[0m \u001b[0;34m'HLV_O3b'\u001b[0m\u001b[0;34m,\u001b[0m\u001b[0mcompo\u001b[0m\u001b[0;34m=\u001b[0m\u001b[0;34m[\u001b[0m\u001b[0mH_O3b\u001b[0m\u001b[0;34m,\u001b[0m\u001b[0mL_O3b\u001b[0m\u001b[0;34m,\u001b[0m\u001b[0mV_O3b\u001b[0m\u001b[0;34m]\u001b[0m\u001b[0;34m,\u001b[0m \u001b[0mefficiency\u001b[0m \u001b[0;34m=\u001b[0m \u001b[0;36m0.5\u001b[0m\u001b[0;34m,\u001b[0m \u001b[0mSNR_thrs\u001b[0m \u001b[0;34m=\u001b[0m \u001b[0;36m12\u001b[0m \u001b[0;34m)\u001b[0m\u001b[0;34m\u001b[0m\u001b[0;34m\u001b[0m\u001b[0m\n",
      "\u001b[0;31mTypeError\u001b[0m: __init__() missing 1 required positional argument: 'configuration'"
     ]
    }
   ],
   "source": [
    "H_O3b = Detection.Detector(det_name = 'H_O3b', configuration = 'H', origin = 'Princess', psd_file = 'Hanford_O3b', freq = Freq )\n",
    "L_O3b = Detection.Detector(det_name = 'L_O3b', configuration = 'L', origin = 'Princess', psd_file = 'Livingston_O3b', freq = Freq )\n",
    "V_O3b = Detection.Detector(det_name = 'V_O3b', configuration = 'V', origin = 'Princess', psd_file = 'Virgo_O3b', freq = Freq )\n",
    "\n",
    "HLV_O3b = Detection.Network(net_name = 'HLV_O3b',compo=[H_O3b,L_O3b,V_O3b], efficiency = 0.5, SNR_thrs = 12 )\n"
   ]
  },
  {
   "cell_type": "code",
   "execution_count": null,
   "id": "c3afed5d",
   "metadata": {},
   "outputs": [],
   "source": [
    "Analysis = IndividualAnalysis(params =  {'m1': [0, 100, 100], 'q': [0, 1, 20], 'zm': [0, 5, 30]}, Network = HLV)"
   ]
  },
  {
   "cell_type": "code",
   "execution_count": null,
   "id": "9b021f0a",
   "metadata": {},
   "outputs": [],
   "source": []
  },
  {
   "cell_type": "code",
   "execution_count": null,
   "id": "723e09d1",
   "metadata": {},
   "outputs": [],
   "source": []
  },
  {
   "cell_type": "code",
   "execution_count": null,
   "id": "d5d4cf73",
   "metadata": {},
   "outputs": [],
   "source": []
  },
  {
   "cell_type": "code",
   "execution_count": null,
   "id": "36926fb8",
   "metadata": {},
   "outputs": [],
   "source": []
  },
  {
   "cell_type": "code",
   "execution_count": null,
   "id": "b60e8cf5",
   "metadata": {},
   "outputs": [],
   "source": []
  }
 ],
 "metadata": {
  "kernelspec": {
   "display_name": "Python 3",
   "language": "python",
   "name": "python3"
  },
  "language_info": {
   "codemirror_mode": {
    "name": "ipython",
    "version": 3
   },
   "file_extension": ".py",
   "mimetype": "text/x-python",
   "name": "python",
   "nbconvert_exporter": "python",
   "pygments_lexer": "ipython3",
   "version": "3.8.8"
  }
 },
 "nbformat": 4,
 "nbformat_minor": 5
}
